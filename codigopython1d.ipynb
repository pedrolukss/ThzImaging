{
 "cells": [
  {
   "cell_type": "code",
   "execution_count": 2,
   "id": "e0da608d-ff72-4793-b4bd-546a9ecf846d",
   "metadata": {},
   "outputs": [
    {
     "name": "stdout",
     "output_type": "stream",
     "text": [
      "Collecting pyvisa\n",
      "  Downloading PyVISA-1.14.1-py3-none-any.whl.metadata (7.1 kB)\n",
      "Requirement already satisfied: typing-extensions in c:\\users\\pedro luka\\appdata\\local\\programs\\python\\python313\\lib\\site-packages (from pyvisa) (4.12.2)\n",
      "Downloading PyVISA-1.14.1-py3-none-any.whl (176 kB)\n",
      "Installing collected packages: pyvisa\n",
      "Successfully installed pyvisa-1.14.1\n",
      "Note: you may need to restart the kernel to use updated packages.\n"
     ]
    },
    {
     "name": "stderr",
     "output_type": "stream",
     "text": [
      "\n",
      "[notice] A new release of pip is available: 24.3.1 -> 25.0.1\n",
      "[notice] To update, run: python.exe -m pip install --upgrade pip\n"
     ]
    }
   ],
   "source": [
    "pip install pyvisa"
   ]
  },
  {
   "cell_type": "code",
   "execution_count": 12,
   "id": "d06c362d-a1fe-4c93-b1a5-fab39cb1071f",
   "metadata": {},
   "outputs": [
    {
     "name": "stdin",
     "output_type": "stream",
     "text": [
      "direcao e passos F1000\n",
      "Quantas vezes o movimento se repete 3\n"
     ]
    },
    {
     "name": "stdout",
     "output_type": "stream",
     "text": [
      "Comando enviado: F1000\n",
      "Acionando sistema Terahertz...\n",
      "Comando enviado: F1000\n",
      "Acionando sistema Terahertz...\n",
      "Comando enviado: F1000\n",
      "Acionando sistema Terahertz...\n",
      "Medida Completa\n"
     ]
    }
   ],
   "source": [
    "import pyvisa\n",
    "import time\n",
    "\n",
    "def main():\n",
    "    rm = pyvisa.ResourceManager()\n",
    "    # Configure a porta serial via PyVISA. Em Windows, \"COM3\" corresponde a \"ASRL3::INSTR\".\n",
    "    # Ajuste o endereço conforme seu sistema operacional, ex.: \"/dev/ttyACM0\" para Linux/Mac.\n",
    "    arduino = rm.open_resource(\n",
    "        \"ASRL5::INSTR\",\n",
    "        baud_rate=9600,\n",
    "        data_bits=8,\n",
    "        parity=pyvisa.constants.Parity.none,\n",
    "        stop_bits=pyvisa.constants.StopBits.one,\n",
    "        read_termination='\\n',\n",
    "        write_termination='\\n',\n",
    "        encoding = 'utf-8',\n",
    "        open_timeout = 1000000\n",
    "    )\n",
    "    arduino.timeout = 600000\n",
    "    time.sleep(2)  # Aguarda o Arduino reiniciar\n",
    "    comando = input(\"direcao e passos\")\n",
    "    vezes = int(input('Quantas vezes o movimento se repete'))\n",
    "    numero_str = comando[1:]  # Pega tudo depois do 'f'\n",
    "    numero = int(numero_str)   # Converte \"1000\" para inteiro (1000)\n",
    "    while vezes != 0:\n",
    "        \n",
    "        arduino.write(comando)\n",
    "        print(\"Comando enviado:\",comando)\n",
    "        time.sleep(numero/100)\n",
    "        resposta_recebida = False\n",
    "        while not resposta_recebida:\n",
    "            linha = arduino.read().strip()\n",
    "            if \"passos dados\" in linha:\n",
    "                resposta_recebida = True\n",
    "        \n",
    "        \n",
    "        print(\"Acionando sistema Terahertz...\")\n",
    "        # Função placeholder para acionar o sistema THz\n",
    "        def Thz():\n",
    "            return\n",
    "        # Aqui você pode incluir o código que aciona seu sistema THz\n",
    "        time.sleep(1)  # Simula o tempo de operação do THz\n",
    "        vezes = vezes - 1\n",
    "        time.sleep(0.5)  # Pausa antes de enviar o próximo comando\n",
    "    return print('Medida Completa')\n",
    "if __name__ == \"__main__\":\n",
    "    main()\n"
   ]
  },
  {
   "cell_type": "code",
   "execution_count": null,
   "id": "d424b745-b656-4f30-b454-e25337a554ed",
   "metadata": {},
   "outputs": [],
   "source": []
  }
 ],
 "metadata": {
  "kernelspec": {
   "display_name": "Python 3 (ipykernel)",
   "language": "python",
   "name": "python3"
  },
  "language_info": {
   "codemirror_mode": {
    "name": "ipython",
    "version": 3
   },
   "file_extension": ".py",
   "mimetype": "text/x-python",
   "name": "python",
   "nbconvert_exporter": "python",
   "pygments_lexer": "ipython3",
   "version": "3.13.2"
  }
 },
 "nbformat": 4,
 "nbformat_minor": 5
}
