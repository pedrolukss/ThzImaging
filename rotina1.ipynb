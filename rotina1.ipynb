{
 "cells": [
  {
   "cell_type": "code",
   "execution_count": null,
   "id": "c9725e87-01f7-49b0-b1bf-4a9ba8ffa98a",
   "metadata": {},
   "outputs": [],
   "source": [
    "import serial\n",
    "import time\n",
    "\n",
    "def main():\n",
    "    # Configure a porta serial (ajuste 'COM3' para Windows ou '/dev/ttyACM0' para Linux/Mac)\n",
    "    arduino = serial.Serial('COM3', 9600, timeout=1)\n",
    "    time.sleep(2)  # Aguarda o Arduino reiniciar\n",
    "\n",
    "    while True:\n",
    "        # Exemplo de comando: \"F100\" para mover 100 ciclos para frente.\n",
    "        # Você pode alterar esse comando ou implementar uma lógica para enviá-los sequencialmente.\n",
    "        comando = \"F100\\n\"\n",
    "        arduino.write(comando.encode())\n",
    "        print(\"Comando enviado:\", comando.strip())\n",
    "        \n",
    "        # Aguarda a resposta do Arduino confirmando que concluiu o movimento.\n",
    "        resposta_recebida = False\n",
    "        while not resposta_recebida:\n",
    "            linha = arduino.readline().decode().strip()\n",
    "            if linha:\n",
    "                print(\"Arduino respondeu:\", linha)\n",
    "                if \"passos dados\" in linha:\n",
    "                    resposta_recebida = True\n",
    "        \n",
    "        # Aciona o sistema terahertz após o movimento do motor.\n",
    "        print(\"Acionando sistema Terahertz...\")\n",
    "        def Thz():\n",
    "            return  \n",
    "            \n",
    "        # Aqui você pode incluir o código que aciona seu sistema THz\n",
    "        time.sleep(1)  # Simula o tempo de operação do THz\n",
    "        \n",
    "        # Após o acionamento do THz, o loop envia o próximo comando.\n",
    "        # Caso queira inserir uma pausa entre os comandos, adicione um delay aqui.\n",
    "        time.sleep(0.5)\n",
    "\n",
    "if __name__ == \"__main__\":\n",
    "    main()\n"
   ]
  }
 ],
 "metadata": {
  "kernelspec": {
   "display_name": "Python [conda env:base] *",
   "language": "python",
   "name": "conda-base-py"
  },
  "language_info": {
   "codemirror_mode": {
    "name": "ipython",
    "version": 3
   },
   "file_extension": ".py",
   "mimetype": "text/x-python",
   "name": "python",
   "nbconvert_exporter": "python",
   "pygments_lexer": "ipython3",
   "version": "3.12.7"
  }
 },
 "nbformat": 4,
 "nbformat_minor": 5
}
